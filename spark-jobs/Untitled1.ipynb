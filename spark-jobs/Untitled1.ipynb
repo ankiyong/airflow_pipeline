{
 "cells": [
  {
   "cell_type": "code",
   "execution_count": 10,
   "id": "faa3e449-dd23-4d70-a864-3838c67ad099",
   "metadata": {},
   "outputs": [
    {
     "name": "stdout",
     "output_type": "stream",
     "text": [
      "################# 존재합니다. spark 시작합니다 #################\n",
      "<class 'list'>\n"
     ]
    }
   ],
   "source": [
    "from pyspark.sql import SparkSession\n",
    "import json,time,os,subprocess\n",
    "\n",
    "if __name__ == \"__main__\":\n",
    "    # file_path_sec = \"/opt/spark/data/xcom_data.json\"\n",
    "    file_path_sec = \"/home/aky/data/xcom_data.json\"\n",
    "    if os.path.exists(file_path_sec):\n",
    "        print(\"################# 존재합니다. spark 시작합니다 #################\")\n",
    "        spark = SparkSession.builder.appName(\"DataProcessing\") \\\n",
    "                .config('spark.jars', 'gs://spark-lib/bigquery/spark-bigquery-latest_2.12.jar') \\\n",
    "                .getOrCreate()\n",
    "                        \n",
    "        with open(file_path_sec, 'r') as f:\n",
    "            json_data = json.load(f)\n",
    "            data = []\n",
    "            for i in json_data:\n",
    "                i_replace = i.replace(\"'\",'\"')\n",
    "                data.append(json.loads(i_replace))\n",
    "            df = spark.createDataFrame(data)\n",
    "            json_list = [row.asDict() for row in df.collect()]\n",
    "            print(type(json_list))\n",
    "    else:\n",
    "        print(\"################# 존재하지 않습니다 #################\")\n"
   ]
  }
 ],
 "metadata": {
  "kernelspec": {
   "display_name": "Python 3 (ipykernel)",
   "language": "python",
   "name": "python3"
  },
  "language_info": {
   "codemirror_mode": {
    "name": "ipython",
    "version": 3
   },
   "file_extension": ".py",
   "mimetype": "text/x-python",
   "name": "python",
   "nbconvert_exporter": "python",
   "pygments_lexer": "ipython3",
   "version": "3.10.12"
  }
 },
 "nbformat": 4,
 "nbformat_minor": 5
}
