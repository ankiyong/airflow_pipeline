{
 "cells": [
  {
   "cell_type": "code",
   "execution_count": null,
   "id": "faa3e449-dd23-4d70-a864-3838c67ad099",
   "metadata": {},
   "outputs": [
    {
     "name": "stdout",
     "output_type": "stream",
     "text": [
      "################# 존재합니다. spark 시작합니다 #################\n",
      "+--------------------+---+-------------------+----------------------------+-----------------------------+-----------------------------+--------------------+------------------------+------------+-----------------+--------------+\n",
      "|         customer_id| id|  order_approved_at|order_delivered_carrier_date|order_delivered_customer_date|order_estimated_delivery_date|            order_id|order_purchase_timestamp|order_status|time_diff_seconds|formatted_time|\n",
      "+--------------------+---+-------------------+----------------------------+-----------------------------+-----------------------------+--------------------+------------------------+------------+-----------------+--------------+\n",
      "|e7e6da2ddce69ab0b...|342|2017-01-07 03:44:29|         2017-01-11 16:08:52|          2017-01-16 15:53:34|          2017-02-01 00:00:00|5965b589a33443dd1...|     2017-01-05 13:36:41|   delivered|           958613|       11d 2h |\n",
      "|ed0b5e13c101afa09...|577|2017-01-20 11:50:17|         2017-01-25 11:32:42|          2017-01-27 13:16:00|          2017-03-01 00:00:00|bb448c2c512a6883a...|     2017-01-20 11:38:56|   delivered|           610624|        7d 1h |\n",
      "|5156283c24fef4abe...|615|2017-01-21 20:01:50|         2017-01-25 05:58:53|          2017-02-09 15:44:10|          2017-03-15 00:00:00|c3ad507aba1f6b473...|     2017-01-21 19:46:23|   delivered|          1627067|      18d 19h |\n",
      "|b5ea05c72a89dbe10...|642|2017-01-22 20:35:09|         2017-01-24 16:16:14|          2017-01-28 04:04:57|          2017-02-28 00:00:00|32339685fefe9062d...|     2017-01-22 20:25:54|   delivered|           459543|        5d 7h |\n",
      "|5da810af4515e4470...|346|2017-01-07 03:44:23|         2017-01-11 15:37:55|          2017-01-16 14:04:35|          2017-02-13 00:00:00|3ce4038922670fead...|     2017-01-05 13:52:39|   delivered|           951116|       11d 0h |\n",
      "|23adca7b92ea9f7c4...|646|2017-01-22 22:20:11|         2017-01-24 15:44:02|          2017-02-03 13:25:09|          2017-02-22 00:00:00|cee2ddf4087d91aaf...|     2017-01-22 21:42:56|   delivered|          1006933|      11d 15h |\n",
      "|b91251b81f7e08e81...|648|2017-01-22 22:05:16|         2017-01-23 16:19:47|          2017-01-26 14:23:47|          2017-02-20 00:00:00|ed5c53daefe487fab...|     2017-01-22 21:56:13|   delivered|           318454|       3d 16h |\n",
      "|75ed40e82dfc05de3...|661|2017-01-23 08:50:09|         2017-01-23 13:45:25|          2017-01-27 14:27:51|          2017-02-28 00:00:00|46081612169925ef8...|     2017-01-23 08:35:27|   delivered|           366744|        4d 5h |\n",
      "|72cb2f7e00c6b47c2...|666|2017-01-25 02:50:37|         2017-01-26 11:26:08|          2017-01-30 08:42:04|          2017-02-28 00:00:00|0a2d541ba7c409845...|     2017-01-23 13:40:55|   delivered|           586869|       6d 19h |\n",
      "+--------------------+---+-------------------+----------------------------+-----------------------------+-----------------------------+--------------------+------------------------+------------+-----------------+--------------+\n",
      "\n"
     ]
    },
    {
     "ename": "AttributeError",
     "evalue": "'SparkSession' object has no attribute 'close'",
     "output_type": "error",
     "traceback": [
      "\u001b[0;31m---------------------------------------------------------------------------\u001b[0m",
      "\u001b[0;31mAttributeError\u001b[0m                            Traceback (most recent call last)",
      "Cell \u001b[0;32mIn[16], line 31\u001b[0m\n\u001b[1;32m     29\u001b[0m         df\u001b[38;5;241m.\u001b[39mdrop(\u001b[38;5;124m\"\u001b[39m\u001b[38;5;124morder_delivered_carrier_date\u001b[39m\u001b[38;5;124m\"\u001b[39m)\n\u001b[1;32m     30\u001b[0m         df\u001b[38;5;241m.\u001b[39mshow()\n\u001b[0;32m---> 31\u001b[0m         \u001b[43mspark\u001b[49m\u001b[38;5;241;43m.\u001b[39;49m\u001b[43mclose\u001b[49m()\n\u001b[1;32m     32\u001b[0m \u001b[38;5;28;01melse\u001b[39;00m:\n\u001b[1;32m     33\u001b[0m     \u001b[38;5;28mprint\u001b[39m(\u001b[38;5;124m\"\u001b[39m\u001b[38;5;124m################# 존재하지 않습니다 #################\u001b[39m\u001b[38;5;124m\"\u001b[39m)\n",
      "\u001b[0;31mAttributeError\u001b[0m: 'SparkSession' object has no attribute 'close'"
     ]
    }
   ],
   "source": [
    "from pyspark.sql import SparkSession\n",
    "import json,time,os,subprocess\n",
    "from pyspark.sql.functions import col,to_timestamp,unix_timestamp,expr\n",
    "\n",
    "if __name__ == \"__main__\":\n",
    "    # file_path_sec = \"/opt/spark/data/xcom_data.json\"\n",
    "    file_path_sec = \"/home/aky/data/xcom_data.json\"\n",
    "    if os.path.exists(file_path_sec):\n",
    "        print(\"################# 존재합니다. spark 시작합니다 #################\")\n",
    "        spark = SparkSession.builder.appName(\"DataProcessing\") \\\n",
    "                .getOrCreate()\n",
    "                        \n",
    "        with open(file_path_sec, 'r') as f:\n",
    "            json_data = json.load(f)\n",
    "            data = []\n",
    "            for i in json_data:\n",
    "                i_replace = i.replace(\"'\",'\"')\n",
    "                data.append(json.loads(i_replace))\n",
    "            df = spark.createDataFrame(data)\n",
    "            df = df.withColumn(\"order_delivered_customer_date\", to_timestamp(col(\"order_delivered_customer_date\"))) \\\n",
    "                    .withColumn(\"order_purchase_timestamp\", to_timestamp(col(\"order_purchase_timestamp\"))).withColumn(\"time_diff_seconds\", unix_timestamp(col(\"order_delivered_customer_date\")) - unix_timestamp(col(\"order_purchase_timestamp\"))).withColumn(\n",
    "                \"formatted_time\",\n",
    "                expr(\"concat(floor(time_diff_seconds / 86400), 'd ', floor((time_diff_seconds % 86400) / 3600), 'h ')\")\n",
    "            )\n",
    "            df = df.na.drop()\n",
    "            df.drop(\"id\")\n",
    "            df.drop(\"order_estimated_delivery_date\")\n",
    "            df.drop(\"order_approved_at\")\n",
    "            df.drop(\"order_delivered_carrier_date\")\n",
    "            df.show()\n",
    "            spark.stop()\n",
    "    else:\n",
    "        print(\"################# 존재하지 않습니다 #################\")\n"
   ]
  }
 ],
 "metadata": {
  "kernelspec": {
   "display_name": "Python 3 (ipykernel)",
   "language": "python",
   "name": "python3"
  },
  "language_info": {
   "codemirror_mode": {
    "name": "ipython",
    "version": 3
   },
   "file_extension": ".py",
   "mimetype": "text/x-python",
   "name": "python",
   "nbconvert_exporter": "python",
   "pygments_lexer": "ipython3",
   "version": "3.10.12"
  }
 },
 "nbformat": 4,
 "nbformat_minor": 5
}
