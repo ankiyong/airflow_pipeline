{
 "cells": [
  {
   "cell_type": "code",
   "execution_count": null,
   "metadata": {},
   "outputs": [
    {
     "name": "stdout",
     "output_type": "stream",
     "text": [
      "################# 존재합니다. spark 시작합니다 #################\n",
      "+--------------------+-----------------------------+--------------------+------------------------+------------+-----------------+--------------+\n",
      "|         customer_id|order_delivered_customer_date|            order_id|order_purchase_timestamp|order_status|time_diff_seconds|formatted_time|\n",
      "+--------------------+-----------------------------+--------------------+------------------------+------------+-----------------+--------------+\n",
      "|e7e6da2ddce69ab0b...|          2017-01-16 15:53:34|5965b589a33443dd1...|     2017-01-05 13:36:41|   delivered|           958613|       11d 2h |\n",
      "|ed0b5e13c101afa09...|          2017-01-27 13:16:00|bb448c2c512a6883a...|     2017-01-20 11:38:56|   delivered|           610624|        7d 1h |\n",
      "|5156283c24fef4abe...|          2017-02-09 15:44:10|c3ad507aba1f6b473...|     2017-01-21 19:46:23|   delivered|          1627067|      18d 19h |\n",
      "|b5ea05c72a89dbe10...|          2017-01-28 04:04:57|32339685fefe9062d...|     2017-01-22 20:25:54|   delivered|           459543|        5d 7h |\n",
      "|5da810af4515e4470...|          2017-01-16 14:04:35|3ce4038922670fead...|     2017-01-05 13:52:39|   delivered|           951116|       11d 0h |\n",
      "|23adca7b92ea9f7c4...|          2017-02-03 13:25:09|cee2ddf4087d91aaf...|     2017-01-22 21:42:56|   delivered|          1006933|      11d 15h |\n",
      "|b91251b81f7e08e81...|          2017-01-26 14:23:47|ed5c53daefe487fab...|     2017-01-22 21:56:13|   delivered|           318454|       3d 16h |\n",
      "|75ed40e82dfc05de3...|          2017-01-27 14:27:51|46081612169925ef8...|     2017-01-23 08:35:27|   delivered|           366744|        4d 5h |\n",
      "|72cb2f7e00c6b47c2...|          2017-01-30 08:42:04|0a2d541ba7c409845...|     2017-01-23 13:40:55|   delivered|           586869|       6d 19h |\n",
      "+--------------------+-----------------------------+--------------------+------------------------+------------+-----------------+--------------+\n",
      "\n"
     ]
    }
   ],
   "source": [
    "from pyspark.sql import SparkSession\n",
    "import json,time,os\n",
    "from pyspark.sql.functions import col,to_timestamp,unix_timestamp,expr\n",
    "\n",
    "if __name__ == \"__main__\":\n",
    "    # file_path_sec = \"/opt/spark/data/xcom_data.json\"\n",
    "    file_path_sec = \"/home/aky/data/xcom_data.json\"\n",
    "    if os.path.exists(file_path_sec):\n",
    "        print(\"################# 존재합니다. spark 시작합니다 #################\")\n",
    "        spark = SparkSession.builder.appName(\"DataProcessing\") \\\n",
    "                .getOrCreate()\n",
    "                        \n",
    "        with open(file_path_sec, 'r') as f:\n",
    "            json_data = json.load(f)\n",
    "            data = []\n",
    "            for i in json_data:\n",
    "                i_replace = i.replace(\"'\",'\"')\n",
    "                data.append(json.loads(i_replace))\n",
    "            df = spark.createDataFrame(data)\n",
    "            df = df.withColumn(\"order_delivered_customer_date\", to_timestamp(col(\"order_delivered_customer_date\"))) \\\n",
    "                    .withColumn(\"order_purchase_timestamp\", to_timestamp(col(\"order_purchase_timestamp\"))).withColumn(\"time_diff_seconds\", unix_timestamp(col(\"order_delivered_customer_date\")) - unix_timestamp(col(\"order_purchase_timestamp\"))).withColumn(\n",
    "                \"formatted_time\",\n",
    "                expr(\"concat(floor(time_diff_seconds / 86400), 'd ', floor((time_diff_seconds % 86400) / 3600), 'h ')\")\n",
    "            )\n",
    "            \n",
    "            df = df.drop(\"id\",\"order_estimated_delivery_date\",\"order_approved_at\",\"order_delivered_carrier_date\")\n",
    "            df.show()\n",
    "            spark.stop()\n",
    "    else:\n",
    "        print(\"################# 존재하지 않습니다 #################\")\n"
   ]
  }
 ],
 "metadata": {
  "kernelspec": {
   "display_name": "Python 3 (ipykernel)",
   "language": "python",
   "name": "python3"
  },
  "language_info": {
   "codemirror_mode": {
    "name": "ipython",
    "version": 3
   },
   "file_extension": ".py",
   "mimetype": "text/x-python",
   "name": "python",
   "nbconvert_exporter": "python",
   "pygments_lexer": "ipython3",
   "version": "3.10.12"
  }
 },
 "nbformat": 4,
 "nbformat_minor": 2
}
